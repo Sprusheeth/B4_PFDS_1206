{
  "nbformat": 4,
  "nbformat_minor": 0,
  "metadata": {
    "colab": {
      "provenance": [],
      "include_colab_link": true
    },
    "kernelspec": {
      "name": "python3",
      "display_name": "Python 3"
    },
    "language_info": {
      "name": "python"
    }
  },
  "cells": [
    {
      "cell_type": "markdown",
      "metadata": {
        "id": "view-in-github",
        "colab_type": "text"
      },
      "source": [
        "<a href=\"https://colab.research.google.com/github/Sprusheeth/B4_PFDS_1206/blob/main/LAB1_PFDS.ipynb\" target=\"_parent\"><img src=\"https://colab.research.google.com/assets/colab-badge.svg\" alt=\"Open In Colab\"/></a>"
      ]
    },
    {
      "cell_type": "code",
      "execution_count": null,
      "metadata": {
        "colab": {
          "base_uri": "https://localhost:8080/"
        },
        "id": "ctAtPi6g-3W9",
        "outputId": "00945627-de8e-4832-dd17-63bbdd21e733"
      },
      "outputs": [
        {
          "output_type": "stream",
          "name": "stdout",
          "text": [
            "Enter a number (0 to 10): 4\n",
            "\n",
            "Starting factorial of 4\n",
            "\n",
            "factorial(4) called\n",
            "factorial(3) called\n",
            "factorial(2) called\n",
            "factorial(1) called\n",
            "Returning 1 (base case)\n",
            "Returning 2 from factorial(2)\n",
            "Returning 6 from factorial(3)\n",
            "Returning 24 from factorial(4)\n",
            "\n",
            "Factorial of 4 is: 24\n"
          ]
        }
      ],
      "source": [
        "def factorial(n):\n",
        "    print(f\"factorial({n}) called\")\n",
        "\n",
        "    if n == 0 or n == 1:\n",
        "        print(f\"Returning 1 (base case)\")\n",
        "        return 1\n",
        "    else:\n",
        "        result = n * factorial(n - 1)\n",
        "        print(f\"Returning {result} from factorial({n})\")\n",
        "        return result\n",
        "\n",
        "num = int(input(\"Enter a number (0 to 10): \"))\n",
        "if num < 0 or num > 10:\n",
        "    print(\"Please enter a number between 0 and 10\")\n",
        "else:\n",
        "    print(f\"\\nStarting factorial of {num}\\n\")\n",
        "    answer = factorial(num)\n",
        "    print(f\"\\nFactorial of {num} is: {answer}\")\n"
      ]
    },
    {
      "cell_type": "code",
      "source": [
        "import time, sys\n",
        "\n",
        "def rec_fact(n): return 1 if n < 2 else n * rec_fact(n - 1)\n",
        "def iter_fact(n):\n",
        "    res = 1\n",
        "    for i in range(2, n + 1): res *= i\n",
        "    return res\n",
        "\n",
        "def compare(n):\n",
        "    if n < 0: return print(\"❌ Factorial undefined for negatives\")\n",
        "    print(f\"\\nComparing Recursive vs Iterative for n={n}\\n{'-'*55}\")\n",
        "    try:\n",
        "        t1 = time.time(); r1 = rec_fact(n); t2 = time.time()\n",
        "        rec_time, rec_mem = t2 - t1, sys.getsizeof(r1)\n",
        "    except RecursionError:\n",
        "        r1, rec_time, rec_mem = \"RecursionError\", None, None\n",
        "    t3 = time.time(); r2 = iter_fact(n); t4 = time.time()\n",
        "    iter_time, iter_mem = t4 - t3, sys.getsizeof(r2)\n",
        "    print(f\"{'Method':<12}|{'Result':<12}|{'Time':<10}|{'Memory'}\")\n",
        "    print(\"-\"*55)\n",
        "    print(f\"{'Recursive':<12}|{str(r1)[:10]:<12}|{rec_time or 'Err':<10}|{rec_mem or 'Err'}\")\n",
        "    print(f\"{'Iterative':<12}|{str(r2)[:10]:<12}|{iter_time:<10}|{iter_mem}\")\n",
        "\n",
        "if __name__ == \"__main__\":\n",
        "    print(\"Recursion limit:\", sys.getrecursionlimit())\n",
        "    try: compare(int(input(\"\\nEnter n: \")))\n",
        "    except ValueError: print(\"Invalid input!\")\n"
      ],
      "metadata": {
        "colab": {
          "base_uri": "https://localhost:8080/"
        },
        "id": "iALXFzsTb8vE",
        "outputId": "97cfd743-7cc4-4c5a-f5b9-b012a529c543"
      },
      "execution_count": 1,
      "outputs": [
        {
          "output_type": "stream",
          "name": "stdout",
          "text": [
            "Recursion limit: 1000\n",
            "\n",
            "Enter n: 100\n",
            "\n",
            "Comparing Recursive vs Iterative for n=100\n",
            "-------------------------------------------------------\n",
            "Method      |Result      |Time      |Memory\n",
            "-------------------------------------------------------\n",
            "Recursive   |9332621544  |2.193450927734375e-05|96\n",
            "Iterative   |9332621544  |1.1682510375976562e-05|96\n"
          ]
        }
      ]
    }
  ]
}