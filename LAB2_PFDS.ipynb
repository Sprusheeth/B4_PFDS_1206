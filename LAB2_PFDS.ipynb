{
  "nbformat": 4,
  "nbformat_minor": 0,
  "metadata": {
    "colab": {
      "provenance": [],
      "authorship_tag": "ABX9TyNLadVgaxkPMXL4yJPRPI7x",
      "include_colab_link": true
    },
    "kernelspec": {
      "name": "python3",
      "display_name": "Python 3"
    },
    "language_info": {
      "name": "python"
    }
  },
  "cells": [
    {
      "cell_type": "markdown",
      "metadata": {
        "id": "view-in-github",
        "colab_type": "text"
      },
      "source": [
        "<a href=\"https://colab.research.google.com/github/Sprusheeth/B4_PFDS_1206/blob/main/LAB2_PFDS.ipynb\" target=\"_parent\"><img src=\"https://colab.research.google.com/assets/colab-badge.svg\" alt=\"Open In Colab\"/></a>"
      ]
    },
    {
      "cell_type": "code",
      "execution_count": 4,
      "metadata": {
        "colab": {
          "base_uri": "https://localhost:8080/"
        },
        "id": "13DcHXBXDjzX",
        "outputId": "eeb4e7bc-54a1-4bdd-8b74-86485e4a2fc1"
      },
      "outputs": [
        {
          "output_type": "stream",
          "name": "stdout",
          "text": [
            "Student Marks (rows=students, cols=subjects):\n",
            " [[85 78 92]\n",
            " [70 65 80]\n",
            " [90 88 84]\n",
            " [60 75 70]\n",
            " [95 98 99]]\n",
            "\n",
            "Average marks per student: [85.         71.66666667 87.33333333 68.33333333 97.33333333]\n",
            "Minimum marks per student: [78 65 84 60 95]\n",
            "Maximum marks per student: [92 80 90 75 99]\n",
            "\n",
            "Marks of 3rd student: [90 88 84]\n",
            "\n",
            "Students with average marks > 80:\n",
            " [[85 78 92]\n",
            " [90 88 84]\n",
            " [95 98 99]]\n",
            "\n",
            "Subject-wise Performance (rows=subjects):\n",
            " [[85 70 90 60 95]\n",
            " [78 65 88 75 98]\n",
            " [92 80 84 70 99]]\n"
          ]
        }
      ],
      "source": [
        "import numpy as np\n",
        "\n",
        "marks = np.array([\n",
        "    [85, 78, 92],\n",
        "    [70, 65, 80],\n",
        "    [90, 88, 84],\n",
        "    [60, 75, 70],\n",
        "    [95, 98, 99]\n",
        "])\n",
        "\n",
        "print(\"Student Marks (rows=students, cols=subjects):\\n\", marks)\n",
        "\n",
        "student_avg = np.mean(marks, axis=1)\n",
        "student_min = np.min(marks, axis=1)\n",
        "student_max = np.max(marks, axis=1)\n",
        "\n",
        "print(\"\\nAverage marks per student:\", student_avg)\n",
        "print(\"Minimum marks per student:\", student_min)\n",
        "print(\"Maximum marks per student:\", student_max)\n",
        "\n",
        "print(\"\\nMarks of 3rd student:\", marks[2])\n",
        "\n",
        "above_80 = student_avg > 80\n",
        "print(\"\\nStudents with average marks > 80:\\n\", marks[above_80])\n",
        "\n",
        "reshaped = marks.T\n",
        "print(\"\\nSubject-wise Performance (rows=subjects):\\n\", reshaped)\n"
      ]
    }
  ]
}