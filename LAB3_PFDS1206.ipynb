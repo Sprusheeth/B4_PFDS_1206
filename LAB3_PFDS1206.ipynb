{
  "nbformat": 4,
  "nbformat_minor": 0,
  "metadata": {
    "colab": {
      "provenance": [],
      "authorship_tag": "ABX9TyOXY9bbxySloT6t9GZsyUuQ",
      "include_colab_link": true
    },
    "kernelspec": {
      "name": "python3",
      "display_name": "Python 3"
    },
    "language_info": {
      "name": "python"
    }
  },
  "cells": [
    {
      "cell_type": "markdown",
      "metadata": {
        "id": "view-in-github",
        "colab_type": "text"
      },
      "source": [
        "<a href=\"https://colab.research.google.com/github/Sprusheeth/B4_PFDS_1206/blob/main/LAB3_PFDS1206.ipynb\" target=\"_parent\"><img src=\"https://colab.research.google.com/assets/colab-badge.svg\" alt=\"Open In Colab\"/></a>"
      ]
    },
    {
      "cell_type": "markdown",
      "source": [
        "Matrix Addition and Subtraction\n",
        "Objective:\n",
        "Perform basic arithmetic operations like addition and subtraction\n",
        "on 2D NumPy arrays representing matrices.\n",
        "\n",
        "Requirements:\n",
        "• Create two 3x3 NumPy arrays with random integers\n",
        "\n",
        "• Perform element-wise addition and subtraction\n",
        "\n",
        "• Display original matrices and results\n",
        "\n",
        "• Use functions like np.add() and np.subtract()\n",
        "\n",
        "• Verify operation using manual calculation for one element\n",
        "\n",
        "• Comment on broadcasting (if used)\n",
        "\n",
        "Deliverables:\n",
        "\n",
        "• Python code for matrix operations\n",
        "\n",
        "• Screenshots showing matrix inputs and results\n",
        "\n",
        "• Short explanation of results"
      ],
      "metadata": {
        "id": "G5wiDR9d3sTP"
      }
    },
    {
      "cell_type": "code",
      "execution_count": 9,
      "metadata": {
        "colab": {
          "base_uri": "https://localhost:8080/"
        },
        "id": "353BJ7B63md9",
        "outputId": "8dfedd30-963b-4669-c70e-fb16c1d65220"
      },
      "outputs": [
        {
          "output_type": "stream",
          "name": "stdout",
          "text": [
            "Matrix A:\n",
            " [[ 3  2  5]\n",
            " [ 8 10  1]\n",
            " [10  1  3]]\n",
            "\n",
            "Matrix B:\n",
            " [[ 7  6  4]\n",
            " [ 8 10  9]\n",
            " [ 4  3  7]]\n",
            "\n",
            "Addition Result (A + B):\n",
            " [[10  8  9]\n",
            " [16 20 10]\n",
            " [14  4 10]]\n",
            "\n",
            "Subtraction Result (A - B):\n",
            " [[-4 -4  1]\n",
            " [ 0  0 -8]\n",
            " [ 6 -2 -4]]\n",
            "\n",
            "Verification for element (2, 3):\n",
            "A[1,2] = 1, B[1,2] = 9\n",
            "Addition check: 10 == 10\n",
            "Subtraction check: -8 == -8\n"
          ]
        }
      ],
      "source": [
        "import numpy as np\n",
        "\n",
        "matrix_a = np.random.randint(1, 11, size=(3, 3))\n",
        "matrix_b = np.random.randint(1, 11, size=(3, 3))\n",
        "\n",
        "add_result = np.add(matrix_a, matrix_b)\n",
        "sub_result = np.subtract(matrix_a, matrix_b)\n",
        "\n",
        "print(\"Matrix A:\\n\", matrix_a)\n",
        "print(\"\\nMatrix B:\\n\", matrix_b)\n",
        "print(\"\\nAddition Result (A + B):\\n\", add_result)\n",
        "print(\"\\nSubtraction Result (A - B):\\n\", sub_result)\n",
        "\n",
        "row, col = 1, 2\n",
        "manual_add = matrix_a[row, col] + matrix_b[row, col]\n",
        "manual_sub = matrix_a[row, col] - matrix_b[row, col]\n",
        "\n",
        "print(f\"\\nVerification for element ({row+1}, {col+1}):\")\n",
        "print(f\"A[{row},{col}] = {matrix_a[row, col]}, B[{row},{col}] = {matrix_b[row, col]}\")\n",
        "print(f\"Addition check: {manual_add} == {add_result[row, col]}\")\n",
        "print(f\"Subtraction check: {manual_sub} == {sub_result[row, col]}\")\n"
      ]
    },
    {
      "cell_type": "markdown",
      "source": [
        "2D Matrix Multiplication (Dot Product)\n",
        "Objective:\n",
        "Understand and implement matrix multiplication using NumPy to\n",
        "simulate applications like image transformation.\n",
        "Requirements:\n",
        "\n",
        "• Create two compatible 2D arrays (e.g., 3x2 and 2x3)\n",
        "\n",
        "• Use np.dot() or @ operator to perform dot product\n",
        "\n",
        "• Print intermediate and final results\n",
        "\n",
        "• Ensure dimensions match for multiplication\n",
        "\n",
        "• Simulate use in real-world scenario (e.g., image filters)\n",
        "\n",
        "• Optional: Visualize matrices using matplotlib\n",
        "\n",
        "Deliverables:\n",
        "\n",
        "• Python script demonstrating dot product\n",
        "\n",
        "• Output screenshots of each step\n",
        "\n",
        "• Visualization (optional)"
      ],
      "metadata": {
        "id": "oioP1SrR4NY8"
      }
    },
    {
      "cell_type": "code",
      "source": [
        "import numpy as np\n",
        "import matplotlib.pyplot as plt\n",
        "\n",
        "matrix_a = np.random.randint(1, 6, size=(3, 2))\n",
        "matrix_b = np.random.randint(1, 6, size=(2, 3))\n",
        "\n",
        "print(\"Matrix A (3x2):\\n\", matrix_a)\n",
        "print(\"\\nMatrix B (2x3):\\n\", matrix_b)\n",
        "\n",
        "print(f\"\\nMatrix A shape: {matrix_a.shape}\")\n",
        "print(f\"Matrix B shape: {matrix_b.shape}\")\n",
        "print(\"Dimensions match for multiplication (inner dimensions: 2)\")\n",
        "\n",
        "dot_result = np.dot(matrix_a, matrix_b)\n",
        "\n",
        "print(\"\\nDot Product Result (3x3):\\n\", dot_result)\n"
      ],
      "metadata": {
        "colab": {
          "base_uri": "https://localhost:8080/"
        },
        "id": "6qRZOO0J4V0T",
        "outputId": "89672937-ccf8-4678-f2b6-1ed12a4777cf"
      },
      "execution_count": 10,
      "outputs": [
        {
          "output_type": "stream",
          "name": "stdout",
          "text": [
            "Matrix A (3x2):\n",
            " [[3 4]\n",
            " [3 5]\n",
            " [1 3]]\n",
            "\n",
            "Matrix B (2x3):\n",
            " [[3 2 4]\n",
            " [1 2 5]]\n",
            "\n",
            "Matrix A shape: (3, 2)\n",
            "Matrix B shape: (2, 3)\n",
            "Dimensions match for multiplication (inner dimensions: 2)\n",
            "\n",
            "Dot Product Result (3x3):\n",
            " [[13 14 32]\n",
            " [14 16 37]\n",
            " [ 6  8 19]]\n"
          ]
        }
      ]
    },
    {
      "cell_type": "markdown",
      "source": [
        "**CLASSROOM EXERCISE**"
      ],
      "metadata": {
        "id": "SLHfOZuX46cu"
      }
    },
    {
      "cell_type": "code",
      "source": [
        "name = input(\"Enter your name: \")\n",
        "marks = input(\"Enter your marks: \")\n",
        "\n",
        "with open(\"student_records.txt\", \"a\") as file:\n",
        "    file.write(f\"{name},{marks}\\n\")\n",
        "\n",
        "print(\"\\nAll student records:\")\n",
        "with open(\"student_records.txt\", \"r\") as file:\n",
        "    for line in file:\n",
        "        line = line.strip()\n",
        "        if line:\n",
        "            student_name, student_marks = line.split(\",\")\n",
        "            print(f\"Name: {student_name}, Marks: {student_marks}\")"
      ],
      "metadata": {
        "colab": {
          "base_uri": "https://localhost:8080/"
        },
        "id": "tOurDxC95EYh",
        "outputId": "81a03d29-93b9-45c7-ab2d-8dffedeef6b7"
      },
      "execution_count": 3,
      "outputs": [
        {
          "output_type": "stream",
          "name": "stdout",
          "text": [
            "Enter your name: SPRUSHEETH\n",
            "Enter your marks: 100\n",
            "\n",
            "All student records:\n",
            "Name: SPRUSHEETH, Marks: 100\n"
          ]
        }
      ]
    }
  ]
}